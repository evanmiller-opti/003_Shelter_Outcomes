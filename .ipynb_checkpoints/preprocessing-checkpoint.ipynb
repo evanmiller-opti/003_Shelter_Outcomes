{
 "cells": [
  {
   "cell_type": "code",
   "execution_count": 1,
   "metadata": {
    "collapsed": true
   },
   "outputs": [],
   "source": [
    "import pandas as pd\n",
    "import seaborn as sns\n",
    "import numpy as np\n",
    "import matplotlib.pyplot as plt\n",
    "%matplotlib inline"
   ]
  },
  {
   "cell_type": "code",
   "execution_count": 7,
   "metadata": {
    "collapsed": false
   },
   "outputs": [],
   "source": [
    "rng = np.random.RandomState(0)\n",
    "\n",
    "train = pd.read_csv('train.csv')\n",
    "train['type'] = 'train'\n",
    "\n",
    "test = pd.read_csv('test.csv')\n",
    "test['type'] = 'test'\n",
    "test['OutcomeSubtype'] = ''\n",
    "test['OutcomeType'] = ''\n",
    "\n",
    "def data_import(df1, df2):\n",
    "\n",
    "    df = (df1.append(df2)\n",
    "         .rename(columns=str.lower))\n",
    "    \n",
    "    # functions to get new parameters from the column\n",
    "    def get_sex(x):\n",
    "        x = str(x)\n",
    "        if x.find('Male') >= 0: return 'male'\n",
    "        if x.find('Female') >= 0: return 'female'\n",
    "        return 'unknown'\n",
    "    \n",
    "    def get_neutered(x):\n",
    "        x = str(x)\n",
    "        if x.find('Spayed') >= 0: return 'neutered'\n",
    "        if x.find('Neutered') >= 0: return 'neutered'\n",
    "        if x.find('Intact') >= 0: return 'intact'\n",
    "        return 'unknown'\n",
    "\n",
    "    df['sex'] = df.sexuponoutcome.apply(get_sex)\n",
    "    df['neutered'] = df.sexuponoutcome.apply(get_neutered)\n",
    "    \n",
    "    def get_mix(x):\n",
    "        x = str(x)\n",
    "        if x.find('Mix') >= 0: return 'mix'\n",
    "        return 'not'\n",
    "\n",
    "    df['mix'] = df.breed.apply(get_mix)\n",
    "    \n",
    "    \n",
    "    def calc_age_in_years(x):\n",
    "        x = str(x)\n",
    "        if x == 'nan': return np.nan\n",
    "        age = int(x.split()[0])\n",
    "        if x.find('year') > -1: return age \n",
    "        if x.find('month')> -1: return age / 12.\n",
    "        if x.find('week')> -1: return age / 52.\n",
    "        if x.find('day')> -1: return age / 365.\n",
    "        else: return np.nan\n",
    "    \n",
    "    df['ageinyears'] = df.ageuponoutcome.apply(calc_age_in_years)\n",
    "    \n",
    "    # Creating some more date variables\n",
    "\n",
    "    from datetime import datetime\n",
    "\n",
    "    df['datetime'] = pd.to_datetime(df.datetime)\n",
    "    df['year'] = df['datetime'].map(lambda x: x.year).astype(str)\n",
    "    df['year'] = df['datetime'].map(lambda x: x.month).astype(str)\n",
    "    df['wday'] = df['datetime'].map(lambda x: x.dayofweek).astype(str)\n",
    "    \n",
    "    def has_name(x):\n",
    "        if x == 'Nameless': return 0\n",
    "        else: return 1\n",
    "    \n",
    "    df['hasname'] = df['name'].map(has_name)\n",
    "    \n",
    "    drop_cols = ['animalid', 'datetime', 'name', 'ageuponoutcome', 'sexuponoutcome', 'outcomesubtype']\n",
    "\n",
    "    df.drop(drop_cols, axis=1, inplace=True)\n",
    "\n",
    "    df['mix'] = df['breed'].str.contains('Mix').astype(int)\n",
    "\n",
    "    df['color_simple'] = df.color.str.split('/| ').str.get(0)\n",
    "    df.drop(['breed', 'color'], axis = 1 , inplace = True)\n",
    "    \n",
    "    # Using mean imputation of missing values. Can build on if necessary\n",
    "    \n",
    "    df['ageinyears'] = df.ageinyears.fillna(df.ageinyears.mean())\n",
    "    \n",
    "    # Just using training data for model building\n",
    "    \n",
    "    return(df)\n",
    "\n",
    "df = data_import(train, test)\n",
    "\n",
    "def prep_data(dataframe, type):\n",
    "    \n",
    "    df = dataframe.copy()\n",
    "    df.drop('id', axis = 1, inplace = True)\n",
    "    df = df.loc[df.type == type,:]\n",
    "    df.drop('type', axis = 1, inplace = True)\n",
    "    \n",
    "    # Encoding labels\n",
    "    \n",
    "    y = df['outcometype'].values\n",
    "    \n",
    "    from sklearn import preprocessing\n",
    "    le = preprocessing.LabelEncoder()\n",
    "    \n",
    "    le.fit(y)\n",
    "    \n",
    "    y = le.transform(y)\n",
    "    X = df\n",
    "    X.drop(['outcometype'], axis=1, inplace=True)\n",
    "    \n",
    "    X = pd.get_dummies(X)\n",
    "\n",
    "    return(X, y)\n",
    "\n",
    "from sklearn import svm\n",
    "from sklearn.multiclass import OutputCodeClassifier\n",
    "\n",
    "X_train, y_train = prep_data(df, 'train')\n",
    "X_test, y_test = prep_data(df, 'test')\n",
    "\n",
    "def train_model(classifier):\n",
    "\n",
    "    if classifier == \"LinearSVC\":\n",
    "        clf = OutputCodeClassifier(svm.SVC(kernel='linear', C=1, random_state=0),\n",
    "                        code_size=4, random_state=0)\n",
    "\n",
    "    clf.fit(X_train, y_train)\n",
    "    \n",
    "    return(clf)"
   ]
  },
  {
   "cell_type": "code",
   "execution_count": 8,
   "metadata": {
    "collapsed": false
   },
   "outputs": [
    {
     "ename": "NameError",
     "evalue": "name 'cross_validation' is not defined",
     "output_type": "error",
     "traceback": [
      "\u001b[1;31m---------------------------------------------------------------------------\u001b[0m",
      "\u001b[1;31mNameError\u001b[0m                                 Traceback (most recent call last)",
      "\u001b[1;32m<ipython-input-8-27b6a8926706>\u001b[0m in \u001b[0;36m<module>\u001b[1;34m()\u001b[0m\n\u001b[0;32m      1\u001b[0m \u001b[0mclf\u001b[0m \u001b[1;33m=\u001b[0m \u001b[0mtrain_model\u001b[0m\u001b[1;33m(\u001b[0m\u001b[1;34m\"LinearSVC\"\u001b[0m\u001b[1;33m)\u001b[0m\u001b[1;33m\u001b[0m\u001b[0m\n\u001b[0;32m      2\u001b[0m \u001b[1;33m\u001b[0m\u001b[0m\n\u001b[1;32m----> 3\u001b[1;33m \u001b[0mscores\u001b[0m \u001b[1;33m=\u001b[0m \u001b[0mcross_validation\u001b[0m\u001b[1;33m.\u001b[0m\u001b[0mcross_val_score\u001b[0m\u001b[1;33m(\u001b[0m\u001b[0mclf\u001b[0m\u001b[1;33m,\u001b[0m \u001b[0mX_train\u001b[0m\u001b[1;33m,\u001b[0m \u001b[0my_train\u001b[0m\u001b[1;33m,\u001b[0m \u001b[0mcv\u001b[0m\u001b[1;33m=\u001b[0m\u001b[1;36m5\u001b[0m\u001b[1;33m)\u001b[0m\u001b[1;33m\u001b[0m\u001b[0m\n\u001b[0m",
      "\u001b[1;31mNameError\u001b[0m: name 'cross_validation' is not defined"
     ]
    }
   ],
   "source": [
    "\n",
    "clf = train_model(\"LinearSVC\")\n",
    "\n",
    "scores = cross_validation.cross_val_score(clf, X_train, y_train, cv=5)"
   ]
  },
  {
   "cell_type": "code",
   "execution_count": 182,
   "metadata": {
    "collapsed": false
   },
   "outputs": [],
   "source": [
    "scores"
   ]
  },
  {
   "cell_type": "code",
   "execution_count": null,
   "metadata": {
    "collapsed": true
   },
   "outputs": [],
   "source": []
  }
 ],
 "metadata": {
  "kernelspec": {
   "display_name": "Python 3",
   "language": "python",
   "name": "python3"
  },
  "language_info": {
   "codemirror_mode": {
    "name": "ipython",
    "version": 3
   },
   "file_extension": ".py",
   "mimetype": "text/x-python",
   "name": "python",
   "nbconvert_exporter": "python",
   "pygments_lexer": "ipython3",
   "version": "3.5.1"
  }
 },
 "nbformat": 4,
 "nbformat_minor": 0
}
