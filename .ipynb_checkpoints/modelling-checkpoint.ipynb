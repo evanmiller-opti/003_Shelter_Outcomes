{
 "cells": [
  {
   "cell_type": "code",
   "execution_count": 5,
   "metadata": {
    "collapsed": true
   },
   "outputs": [],
   "source": [
    "%matplotlib inline\n",
    "import pandas as pd\n",
    "import seaborn as sns\n",
    "import numpy as np\n",
    "import matplotlib.pyplot as plt"
   ]
  },
  {
   "cell_type": "code",
   "execution_count": 41,
   "metadata": {
    "collapsed": false
   },
   "outputs": [
    {
     "name": "stdout",
     "output_type": "stream",
     "text": [
      "reading in train data..\n",
      "reading in test data..\n",
      "Running feature extraction process..\n",
      "Dropping unused variables..\n",
      "Running data preparation for train dataset\n",
      "Encoding labels of the outcome variable..\n",
      "Using one hot encoding for predictor variables..\n",
      "Running data preparation for test dataset\n",
      "Encoding labels of the outcome variable..\n",
      "Using one hot encoding for predictor variables..\n",
      "Columns are the same!!\n"
     ]
    }
   ],
   "source": [
    "rng = np.random.RandomState(0)\n",
    "\n",
    "print ('reading in train data..')\n",
    "train = pd.read_csv('train.csv')\n",
    "train['type'] = 'train'\n",
    "\n",
    "print ('reading in test data..')\n",
    "test = pd.read_csv('test.csv')\n",
    "test['type'] = 'test'\n",
    "test['OutcomeSubtype'] = ''\n",
    "test['OutcomeType'] = ''\n",
    "\n",
    "def data_import(df1, df2):\n",
    "    \n",
    "    print ('Running feature extraction process..')\n",
    "    df = (df1.append(df2)\n",
    "         .rename(columns=str.lower))\n",
    "    \n",
    "    # functions to get new parameters from the column\n",
    "    def get_sex(x):\n",
    "        x = str(x)\n",
    "        if x.find('Male') >= 0: return 'male'\n",
    "        if x.find('Female') >= 0: return 'female'\n",
    "        return 'unknown'\n",
    "    \n",
    "    def get_neutered(x):\n",
    "        x = str(x)\n",
    "        if x.find('Spayed') >= 0: return 'neutered'\n",
    "        if x.find('Neutered') >= 0: return 'neutered'\n",
    "        if x.find('Intact') >= 0: return 'intact'\n",
    "        return 'unknown'\n",
    "\n",
    "    df['sex'] = df.sexuponoutcome.apply(get_sex)\n",
    "    df['neutered'] = df.sexuponoutcome.apply(get_neutered)\n",
    "    \n",
    "    def get_mix(x):\n",
    "        x = str(x)\n",
    "        if x.find('Mix') >= 0: return 'mix'\n",
    "        return 'not'\n",
    "\n",
    "    df['mix'] = df.breed.apply(get_mix)\n",
    "    \n",
    "    \n",
    "    def calc_age_in_years(x):\n",
    "        x = str(x)\n",
    "        if x == 'nan': return np.nan\n",
    "        age = int(x.split()[0])\n",
    "        if x.find('year') > -1: return age \n",
    "        if x.find('month')> -1: return age / 12.\n",
    "        if x.find('week')> -1: return age / 52.\n",
    "        if x.find('day')> -1: return age / 365.\n",
    "        else: return np.nan\n",
    "    \n",
    "    df['ageinyears'] = df.ageuponoutcome.apply(calc_age_in_years)\n",
    "    \n",
    "    # Creating some more date variables\n",
    "\n",
    "    from datetime import datetime\n",
    "\n",
    "    df['datetime'] = pd.to_datetime(df.datetime)\n",
    "    df['year'] = df['datetime'].map(lambda x: x.year).astype(str)\n",
    "    df['year'] = df['datetime'].map(lambda x: x.month).astype(str)\n",
    "    df['wday'] = df['datetime'].map(lambda x: x.dayofweek).astype(str)\n",
    "    \n",
    "    def has_name(x):\n",
    "        if x == 'Nameless': return 0\n",
    "        else: return 1\n",
    "    \n",
    "    df['hasname'] = df['name'].map(has_name)\n",
    "    \n",
    "    print ('Dropping unused variables..')\n",
    "    \n",
    "    drop_cols = ['animalid', 'datetime', 'name', 'ageuponoutcome', 'sexuponoutcome', 'outcomesubtype']\n",
    "\n",
    "    df.drop(drop_cols, axis=1, inplace=True)\n",
    "\n",
    "    df['mix'] = df['breed'].str.contains('Mix').astype(int)\n",
    "\n",
    "    df['color_simple'] = df.color.str.split('/| ').str.get(0)\n",
    "    df.drop(['breed', 'color'], axis = 1 , inplace = True)\n",
    "    \n",
    "    # Using mean imputation of missing values. Can build on if necessary\n",
    "    \n",
    "    df['ageinyears'] = df.ageinyears.fillna(df.ageinyears.mean())\n",
    "    \n",
    "    # Just using training data for model building\n",
    "    \n",
    "    return(df)\n",
    "\n",
    "df = data_import(train, test)\n",
    "\n",
    "def prep_data(dataframe, type):\n",
    "    \n",
    "    df = dataframe.copy()\n",
    "    df.drop('id', axis = 1, inplace = True)\n",
    "    df = df.loc[df.type == type,:]\n",
    "    df.drop('type', axis = 1, inplace = True)\n",
    "    \n",
    "    # Encoding labels\n",
    "    print ('Encoding labels of the outcome variable..')\n",
    "    \n",
    "    y = df['outcometype'].values\n",
    "    \n",
    "    if type == 'test':\n",
    "        df['color_simple_Ruddy'] = 0\n",
    "    \n",
    "    from sklearn import preprocessing\n",
    "    le = preprocessing.LabelEncoder()\n",
    "    \n",
    "    le.fit(y)\n",
    "    \n",
    "    y = le.transform(y)\n",
    "    X = df\n",
    "    X.drop(['outcometype'], axis=1, inplace=True)\n",
    "    \n",
    "    print ('Using one hot encoding for predictor variables..')\n",
    "    X = pd.get_dummies(X)\n",
    "    \n",
    "    X_cols = X.columns\n",
    "    from sklearn.preprocessing import Imputer\n",
    "\n",
    "    #Imputing missing values\n",
    "    imp = Imputer(missing_values=np.nan, strategy='mean', axis=0)\n",
    "    imp.fit(X)\n",
    "\n",
    "    X = imp.transform(X)\n",
    "    \n",
    "    return(X, y, le, X_cols)\n",
    "\n",
    "print ('Running data preparation for train dataset')\n",
    "X_train, y_train, le_train, X_train_cols = prep_data(df, 'train')\n",
    "\n",
    "print ('Running data preparation for test dataset')\n",
    "X_test, y_test, le_test, X_test_cols = prep_data(df, 'test')\n",
    "\n",
    "cols_equal = list(set(X_train_cols) - set(X_test_cols)) \n",
    "\n",
    "if not cols_equal:\n",
    "    print ('Columns are the same!!')\n",
    "else:\n",
    "    print ('Columns are not the same..')"
   ]
  },
  {
   "cell_type": "code",
   "execution_count": 7,
   "metadata": {
    "collapsed": false
   },
   "outputs": [
    {
     "name": "stdout",
     "output_type": "stream",
     "text": [
      "Fitting linear SVM..\n",
      "Fitting SVM with RBF kernel..\n"
     ]
    },
    {
     "data": {
      "text/plain": [
       "SVC(C=1, cache_size=200, class_weight=None, coef0=0.0,\n",
       "  decision_function_shape=None, degree=3, gamma=2, kernel='rbf',\n",
       "  max_iter=-1, probability=True, random_state=None, shrinking=True,\n",
       "  tol=0.001, verbose=False)"
      ]
     },
     "execution_count": 7,
     "metadata": {},
     "output_type": "execute_result"
    }
   ],
   "source": [
    "from sklearn.svm import SVC\n",
    "\n",
    "linear_svm = SVC(kernel=\"linear\", C=0.025, probability = True)\n",
    "rbf_svm = SVC(gamma=2, C=1, probability = True)\n",
    "\n",
    "print ('Fitting linear SVM..')\n",
    "linear_svm.fit(X_train, y_train)\n",
    "\n",
    "print ('Fitting SVM with RBF kernel..')\n",
    "rbf_svm.fit(X_train, y_train)"
   ]
  },
  {
   "cell_type": "code",
   "execution_count": 91,
   "metadata": {
    "collapsed": false
   },
   "outputs": [],
   "source": [
    "def predict_output(clf, file):\n",
    "\n",
    "    print ('Predicting outcomes..')\n",
    "    y_pred = rbf_svm.predict_proba(X_test)\n",
    "\n",
    "    df = pd.DataFrame(y_pred)\n",
    "    df.columns = le_train.classes_\n",
    "    ID = pd.Series(range(1, y_pred.shape[0] + 1))\n",
    "    submission = pd.concat([ID, df], axis=1)\n",
    "    submission.rename(columns={0:'ID'}, inplace=True)\n",
    "    submission['ID'] = submission['ID'].astype(int)\n",
    "    \n",
    "    if (y_pred.shape[0] == 11456):\n",
    "        print ('Correct number of rows')\n",
    "        print ('Saving to CSV..')\n",
    "        \n",
    "        import time\n",
    "        \n",
    "        file_path = './Submissions/'\n",
    "        current_time  = time.strftime(\"%d_%m_%Y_%H_%M\")\n",
    "        file_name = file_path + file + '_' + current_time + '.csv'\n",
    "        \n",
    "        submission.to_csv(file_name, index=False)\n",
    "        print ('Done!')\n",
    "        \n",
    "    else:\n",
    "        print ('Incorrect number of rows, please check')"
   ]
  },
  {
   "cell_type": "code",
   "execution_count": 92,
   "metadata": {
    "collapsed": false,
    "scrolled": true
   },
   "outputs": [
    {
     "name": "stdout",
     "output_type": "stream",
     "text": [
      "Predicting outcomes..\n",
      "Correct number of rows\n",
      "Saving to CSV..\n",
      "Done!\n"
     ]
    }
   ],
   "source": [
    "predict_output(rbf_svm, 'rbf_svm')"
   ]
  },
  {
   "cell_type": "code",
   "execution_count": 94,
   "metadata": {
    "collapsed": false
   },
   "outputs": [],
   "source": [
    "# From the above OOB investigation we definitely want ot look at RBF SVMs. This code is taken from:\n",
    "# http://scikit-learn.org/stable/auto_examples/svm/plot_rbf_parameters.html\n",
    "\n",
    "import numpy as np\n",
    "import matplotlib.pyplot as plt\n",
    "from matplotlib.colors import Normalize\n",
    "\n",
    "from sklearn.svm import SVC\n",
    "from sklearn.preprocessing import StandardScaler\n",
    "from sklearn.datasets import load_iris\n",
    "from sklearn.cross_validation import StratifiedShuffleSplit\n",
    "from sklearn.grid_search import GridSearchCV\n",
    "\n",
    "# Utility function to move the midpoint of a colormap to be around\n",
    "# the values of interest.\n",
    "\n",
    "class MidpointNormalize(Normalize):\n",
    "\n",
    "    def __init__(self, vmin=None, vmax=None, midpoint=None, clip=False):\n",
    "        self.midpoint = midpoint\n",
    "        Normalize.__init__(self, vmin, vmax, clip)\n",
    "\n",
    "    def __call__(self, value, clip=None):\n",
    "        x, y = [self.vmin, self.midpoint, self.vmax], [0, 0.5, 1]\n",
    "        return np.ma.masked_array(np.interp(value, x, y))\n",
    "\n",
    "def svm_rbf(X, y):\n",
    "    \n",
    "    print('Grid searching for the best RBF hyperparameters')\n",
    "    ##############################################################################\n",
    "    # Train classifiers\n",
    "    #\n",
    "    # For an initial search, a logarithmic grid with basis\n",
    "    # 10 is often helpful. Using a basis of 2, a finer\n",
    "    # tuning can be achieved but at a much higher cost.\n",
    "\n",
    "    C_range = np.logspace(-2, 10, 13)\n",
    "    gamma_range = np.logspace(-9, 3, 13)\n",
    "    param_grid = dict(gamma=gamma_range, C=C_range)\n",
    "    cv = StratifiedShuffleSplit(y, n_iter=5, test_size=0.2, random_state=42)\n",
    "    grid = GridSearchCV(SVC(), param_grid=param_grid, cv=cv)\n",
    "    grid.fit(X, y)\n",
    "\n",
    "    print(\"The best parameters are %s with a score of %0.2f\"\n",
    "          % (grid.best_params_, grid.best_score_))\n",
    "\n",
    "    C_2d_range = [1e-2, 1, 1e2]\n",
    "    gamma_2d_range = [1e-1, 1, 1e1]\n",
    "    classifiers = []\n",
    "    for C in C_2d_range:\n",
    "        for gamma in gamma_2d_range:\n",
    "            clf = SVC(C=C, gamma=gamma)\n",
    "            clf.fit(X, y)\n",
    "            classifiers.append((C, gamma, clf))\n",
    "\n",
    "    scores = [x[1] for x in grid.grid_scores_]\n",
    "    scores = np.array(scores).reshape(len(C_range), len(gamma_range))\n",
    "\n",
    "    plt.figure(figsize=(8, 6))\n",
    "    plt.subplots_adjust(left=.2, right=0.95, bottom=0.15, top=0.95)\n",
    "    plt.imshow(scores, interpolation='nearest', cmap=plt.cm.hot,\n",
    "               norm=MidpointNormalize(vmin=0.2, midpoint=0.92))\n",
    "    plt.xlabel('gamma')\n",
    "    plt.ylabel('C')\n",
    "    plt.colorbar()\n",
    "    plt.xticks(np.arange(len(gamma_range)), gamma_range, rotation=45)\n",
    "    plt.yticks(np.arange(len(C_range)), C_range)\n",
    "    plt.title('Validation accuracy')\n",
    "    plt.show()"
   ]
  },
  {
   "cell_type": "code",
   "execution_count": null,
   "metadata": {
    "collapsed": false
   },
   "outputs": [
    {
     "name": "stdout",
     "output_type": "stream",
     "text": [
      "Grid searching for the best RBF hyperparameters\n"
     ]
    }
   ],
   "source": [
    "results = svm_rbf(X_train, y_train)"
   ]
  },
  {
   "cell_type": "code",
   "execution_count": null,
   "metadata": {
    "collapsed": true
   },
   "outputs": [],
   "source": []
  }
 ],
 "metadata": {
  "kernelspec": {
   "display_name": "Python 3",
   "language": "python",
   "name": "python3"
  },
  "language_info": {
   "codemirror_mode": {
    "name": "ipython",
    "version": 3
   },
   "file_extension": ".py",
   "mimetype": "text/x-python",
   "name": "python",
   "nbconvert_exporter": "python",
   "pygments_lexer": "ipython3",
   "version": "3.5.1"
  }
 },
 "nbformat": 4,
 "nbformat_minor": 0
}
